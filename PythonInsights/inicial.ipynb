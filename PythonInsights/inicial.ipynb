{
 "cells": [
  {
   "cell_type": "markdown",
   "metadata": {},
   "source": [
    "# Python Insights - Analisando Dados com Python\n",
    "\n",
    "### Case - Cancelamento de Clientes\n",
    "\n",
    "Você foi contratado por uma empresa com mais de 800 mil clientes para um projeto de Dados. Recentemente a empresa percebeu que da sua base total de clientes, a maioria são clientes inativos, ou seja, que já cancelaram o serviço.\n",
    "\n",
    "Precisando melhorar seus resultados ela quer conseguir entender os principais motivos desses cancelamentos e quais as ações mais eficientes para reduzir esse número.\n",
    "\n",
    "Base de dados e arquivos: https://drive.google.com/drive/folders/1uDesZePdkhiraJmiyeZ-w5tfc8XsNYFZ?usp=drive_link"
   ]
  },
  {
   "cell_type": "markdown",
   "metadata": {},
   "source": [
    "# Passo a passo do projeto\n",
    "* Passo 1: Importar a base de dados de clientes\n",
    "\n",
    "* Passo 2: Visualizar a base de dados\n",
    "\n",
    "\t1. Removendo colunas inúteis\n",
    "\n",
    "* Passo 3: Corrigir os problemas da base de dados\n",
    "\n",
    "    1. Valores vazios (erros de preenchimento)\n",
    "\n",
    "* Passo 4: Análise dos cancelamentos\n",
    "* Passo 5: Análise da causa do cancelamento\n",
    "\n",
    "    1. Para cada coluna da tabela:\n",
    "    \n",
    "        a. Criar o gráfico\n",
    "\n",
    "        b. Exibir o gráfico\n",
    "    \n",
    "    2. Alterações na tabela para resultados esperados das soluções.\n",
    "    3. Mostrar a porcentagem dessa tabela alterada."
   ]
  },
  {
   "cell_type": "code",
   "execution_count": null,
   "metadata": {},
   "outputs": [],
   "source": [
    "\"\"\"\n",
    "Passo a passo do projeto\n",
    "Passo 1: Importar a base de dados de clientes\n",
    "Passo 2: Visualizar a base de dados\n",
    "\t1. Removendo colunas inúteis\n",
    "\"\"\"\n",
    "# Passo 1:\n",
    "import pandas as pd\n",
    "tabela = pd.read_csv(\"cancelamentos.csv\")\n",
    "\n",
    "# Passo 2: 1/1\n",
    "tabela = tabela.drop(columns=\"CustomerID\")\n",
    "display(tabela)"
   ]
  },
  {
   "cell_type": "code",
   "execution_count": null,
   "metadata": {},
   "outputs": [],
   "source": [
    "# Passo 3: 1/1\n",
    "display(tabela.info())\n",
    "tabela = tabela.dropna()\n",
    "display(tabela.info())\n"
   ]
  },
  {
   "cell_type": "code",
   "execution_count": null,
   "metadata": {},
   "outputs": [],
   "source": [
    "# Passo 4:\n",
    "display(tabela[\"cancelou\"].value_counts())\n",
    "\n",
    "display(tabela[\"cancelou\"].value_counts(normalize=True))\n",
    "\n",
    "# display(tabela[\"cancelou\"].value_counts(normalize=True).map(\"{:.1%}\".format))"
   ]
  },
  {
   "cell_type": "code",
   "execution_count": null,
   "metadata": {},
   "outputs": [],
   "source": [
    "import plotly.express as px\n",
    "\n",
    "# Passo 5: 1/3\n",
    "for coluna in tabela.columns:\n",
    "    # Passo 5: 1a/1b\n",
    "    grafico = px.histogram(tabela, x=coluna, color=\"cancelou\")\n",
    "    # Passo 5: 1b/1b\n",
    "    grafico.show()\n"
   ]
  },
  {
   "cell_type": "markdown",
   "metadata": {},
   "source": [
    "### Analise das causas de cancelamento\n",
    "\n",
    "Se um cliente ligar mais de 4 vezes para o call center, ele cancela.\n",
    "* Solução: criar um processo para que se um cliente ligar 3 vezes, façamos o possível para resolver.\n",
    "\n",
    "Se um cliente atrasar o pagamento por mais de 20 dias, ele cancela.\n",
    "* Solução: crie um processo para não deixar o cliente atrasar o pagamento por mais de 20 dias.\n",
    "        \n",
    "Todos os clientes com contrato mensal cancelam \n",
    "* Solução: oferecer desconto em planos anuais e trimestrais"
   ]
  },
  {
   "cell_type": "code",
   "execution_count": null,
   "metadata": {},
   "outputs": [],
   "source": [
    "# Passo 5: 2/3\n",
    "\n",
    "tabela = tabela[tabela[\"duracao_contrato\"]!=\"Monthly\"]\n",
    "tabela = tabela[tabela[\"ligacoes_callcenter\"] <= 4]\n",
    "tabela = tabela[tabela[\"dias_atraso\"] <= 20]\n",
    "\n",
    "# Passo 5: 3/3\n",
    "display(tabela[\"cancelou\"].value_counts(normalize=True))\n"
   ]
  }
 ],
 "metadata": {
  "kernelspec": {
   "display_name": "base",
   "language": "python",
   "name": "python3"
  },
  "language_info": {
   "codemirror_mode": {
    "name": "ipython",
    "version": 3
   },
   "file_extension": ".py",
   "mimetype": "text/x-python",
   "name": "python",
   "nbconvert_exporter": "python",
   "pygments_lexer": "ipython3",
   "version": "3.11.4"
  },
  "orig_nbformat": 4
 },
 "nbformat": 4,
 "nbformat_minor": 2
}
